{
 "cells": [
  {
   "cell_type": "code",
   "execution_count": 1,
   "metadata": {},
   "outputs": [],
   "source": [
    "import pandas as pd\n",
    "import json\n",
    "import requests\n",
    "import numpy as np\n",
    "from citipy import citipy as cp\n",
    "import seaborn as sns\n",
    "import openweathermapy as owm\n",
    "import matplotlib.pyplot as plt\n",
    "import random \n",
    "from config import api_key\n",
    "import datetime\n",
    "now = datetime.datetime.now()\n"
   ]
  },
  {
   "cell_type": "code",
   "execution_count": 2,
   "metadata": {},
   "outputs": [],
   "source": [
    "# country_code = []\n",
    "# great  = 1000\n",
    "# cities = []\n",
    "# while len(cities) < great:                                      \n",
    "#     latitude = random.uniform(-1, 1) * 90                     \n",
    "#     longitude = random.uniform(-1, 1) * 180                   \n",
    "#     city = cp.nearest_city(latitude, longitude)           \n",
    "#     if city not in cities:                                    \n",
    "#         cities.append(city.city_name)                         \n",
    "#         country_code.append((city.country_code).upper())\n",
    "# print(len(cities))\n",
    "# print(cities[0])\n",
    "\n"
   ]
  },
  {
   "cell_type": "code",
   "execution_count": 3,
   "metadata": {},
   "outputs": [
    {
     "name": "stderr",
     "output_type": "stream",
     "text": [
      "C:\\Users\\Anish Tendolkar\\Anaconda3\\envs\\PythonData\\lib\\site-packages\\ipykernel\\__main__.py:19: FutureWarning: set_value is deprecated and will be removed in a future release. Please use .at[] or .iat[] accessors instead\n",
      "C:\\Users\\Anish Tendolkar\\Anaconda3\\envs\\PythonData\\lib\\site-packages\\ipykernel\\__main__.py:20: FutureWarning: set_value is deprecated and will be removed in a future release. Please use .at[] or .iat[] accessors instead\n"
     ]
    },
    {
     "data": {
      "text/html": [
       "<div>\n",
       "<style scoped>\n",
       "    .dataframe tbody tr th:only-of-type {\n",
       "        vertical-align: middle;\n",
       "    }\n",
       "\n",
       "    .dataframe tbody tr th {\n",
       "        vertical-align: top;\n",
       "    }\n",
       "\n",
       "    .dataframe thead th {\n",
       "        text-align: right;\n",
       "    }\n",
       "</style>\n",
       "<table border=\"1\" class=\"dataframe\">\n",
       "  <thead>\n",
       "    <tr style=\"text-align: right;\">\n",
       "      <th></th>\n",
       "      <th>City</th>\n",
       "      <th>Country</th>\n",
       "    </tr>\n",
       "  </thead>\n",
       "  <tbody>\n",
       "    <tr>\n",
       "      <th>0</th>\n",
       "      <td>banda aceh</td>\n",
       "      <td>id</td>\n",
       "    </tr>\n",
       "    <tr>\n",
       "      <th>1</th>\n",
       "      <td>buala</td>\n",
       "      <td>sb</td>\n",
       "    </tr>\n",
       "    <tr>\n",
       "      <th>2</th>\n",
       "      <td>lebu</td>\n",
       "      <td>cl</td>\n",
       "    </tr>\n",
       "    <tr>\n",
       "      <th>3</th>\n",
       "      <td>nuevitas</td>\n",
       "      <td>cu</td>\n",
       "    </tr>\n",
       "    <tr>\n",
       "      <th>4</th>\n",
       "      <td>cockburn town</td>\n",
       "      <td>tc</td>\n",
       "    </tr>\n",
       "  </tbody>\n",
       "</table>\n",
       "</div>"
      ],
      "text/plain": [
       "            City Country\n",
       "0     banda aceh      id\n",
       "1          buala      sb\n",
       "2           lebu      cl\n",
       "3       nuevitas      cu\n",
       "4  cockburn town      tc"
      ]
     },
     "execution_count": 3,
     "metadata": {},
     "output_type": "execute_result"
    }
   ],
   "source": [
    "# Latitude ranges from -90 to 90 and Longitude ranges from -180 to 180\n",
    "lat = list(np.arange(-90,90.01,0.01))\n",
    "long = list(np.arange(-180,180.01,0.01))\n",
    "\n",
    "# Setting Latitude and Longitude to ramdomly pick co-ordinates.\n",
    "lat_samples=random.sample(lat,1500)\n",
    "long_samples=random.sample(long,1500)\n",
    "\n",
    "# Creating a dataframe from the randomly sample Latitude and Longitude\n",
    "cities_df=pd.DataFrame({\"Latitude\":lat_samples,\"Longitude\":long_samples})\n",
    "\n",
    "#Creating new columns City and Country for storing the details corresponding to the co-ordinates\n",
    "cities_df[\"City\"]=\"\"\n",
    "cities_df[\"Country\"]=\"\"\n",
    "\n",
    "# Finding the city and the country code corresponding to the Latitude and Longitude\n",
    "for index,row in cities_df.iterrows():\n",
    "    city=cp.nearest_city(row[\"Latitude\"], row[\"Longitude\"])\n",
    "    cities_df.set_value(index, \"City\", city.city_name)\n",
    "    cities_df.set_value(index, \"Country\", city.country_code)\n",
    "\n",
    "# Dropping the Latitude and Longitude as they are values of the nearest city and not the excat co-ordinates of the city\n",
    "cities_df=cities_df.drop(cities_df.columns[[0, 1]], axis=1)\n",
    "\n",
    "# Deleting duplicate values from the list of cities and keeping only the first\n",
    "cities_df=cities_df.drop_duplicates(['City'], keep='first')\n",
    "\n",
    "# Randomly sampling a list of 800 cities \n",
    "cities_df=cities_df.sample(n=10)\n",
    "\n",
    "# Resetting the index of the cities list\n",
    "cities_df=cities_df.reset_index(drop=True)\n",
    "\n",
    "cities_df.head()"
   ]
  },
  {
   "cell_type": "code",
   "execution_count": 8,
   "metadata": {},
   "outputs": [
    {
     "name": "stdout",
     "output_type": "stream",
     "text": [
      "\n",
      "Processing record 1|banda aceh,id\n",
      "\n",
      "http://api.openweathermap.org/data/2.5/weather?bd5334bcd8f6438b0b15e4c22ea967e2&units=imperial&q=banda+aceh,id\n",
      " Skipping...\n",
      "\n",
      "Processing record 2|buala,sb\n",
      "\n",
      "http://api.openweathermap.org/data/2.5/weather?bd5334bcd8f6438b0b15e4c22ea967e2&units=imperial&q=buala,sb\n",
      " Skipping...\n",
      "\n",
      "Processing record 3|lebu,cl\n",
      "\n",
      "http://api.openweathermap.org/data/2.5/weather?bd5334bcd8f6438b0b15e4c22ea967e2&units=imperial&q=lebu,cl\n",
      " Skipping...\n",
      "\n",
      "Processing record 4|nuevitas,cu\n",
      "\n",
      "http://api.openweathermap.org/data/2.5/weather?bd5334bcd8f6438b0b15e4c22ea967e2&units=imperial&q=nuevitas,cu\n",
      " Skipping...\n",
      "\n",
      "Processing record 5|cockburn town,tc\n",
      "\n",
      "http://api.openweathermap.org/data/2.5/weather?bd5334bcd8f6438b0b15e4c22ea967e2&units=imperial&q=cockburn+town,tc\n",
      " Skipping...\n",
      "\n",
      "Processing record 6|nagato,jp\n",
      "\n",
      "http://api.openweathermap.org/data/2.5/weather?bd5334bcd8f6438b0b15e4c22ea967e2&units=imperial&q=nagato,jp\n",
      " Skipping...\n",
      "\n",
      "Processing record 7|sinkat,sd\n",
      "\n",
      "http://api.openweathermap.org/data/2.5/weather?bd5334bcd8f6438b0b15e4c22ea967e2&units=imperial&q=sinkat,sd\n",
      " Skipping...\n",
      "\n",
      "Processing record 8|szihalom,hu\n",
      "\n",
      "http://api.openweathermap.org/data/2.5/weather?bd5334bcd8f6438b0b15e4c22ea967e2&units=imperial&q=szihalom,hu\n",
      " Skipping...\n",
      "\n",
      "Processing record 9|college,us\n",
      "\n",
      "http://api.openweathermap.org/data/2.5/weather?bd5334bcd8f6438b0b15e4c22ea967e2&units=imperial&q=college,us\n",
      " Skipping...\n",
      "\n",
      "Processing record 10|honningsvag,no\n",
      "\n",
      "http://api.openweathermap.org/data/2.5/weather?bd5334bcd8f6438b0b15e4c22ea967e2&units=imperial&q=honningsvag,no\n",
      " Skipping...\n"
     ]
    }
   ],
   "source": [
    "\n",
    "# Create an \"extracts\" object to get the various parameter required to form the weather data table# Creat \n",
    "weather_data = []\n",
    "url = \"http://api.openweathermap.org/data/2.5/weather?\" + api_key + \"&units=imperial&q=\"\n",
    "for index,row in cities_df.iterrows():  \n",
    "    print(\"\\nProcessing record %s|%s,%s\"%((index+1),row[\"City\"],row[\"Country\"]))\n",
    "    print(\"\\n\"+url+\"%s,%s\"%(row[\"City\"].replace(\" \",\"+\"),row[\"Country\"]))\n",
    "    try:\n",
    "        response = owm.get_current(\"%s,%s\"%(row[\"City\"],row[\"Country\"]), **settings)\n",
    "        # Appending the response to the weather_Data\n",
    "        weather_data.append(response)\n",
    "    except:\n",
    "        print(\" Skipping...\")\n",
    "\n",
    "\n"
   ]
  },
  {
   "cell_type": "code",
   "execution_count": null,
   "metadata": {},
   "outputs": [],
   "source": []
  },
  {
   "cell_type": "code",
   "execution_count": 9,
   "metadata": {
    "scrolled": true
   },
   "outputs": [
    {
     "data": {
      "text/html": [
       "<div>\n",
       "<style scoped>\n",
       "    .dataframe tbody tr th:only-of-type {\n",
       "        vertical-align: middle;\n",
       "    }\n",
       "\n",
       "    .dataframe tbody tr th {\n",
       "        vertical-align: top;\n",
       "    }\n",
       "\n",
       "    .dataframe thead th {\n",
       "        text-align: right;\n",
       "    }\n",
       "</style>\n",
       "<table border=\"1\" class=\"dataframe\">\n",
       "  <thead>\n",
       "    <tr style=\"text-align: right;\">\n",
       "      <th></th>\n",
       "      <th>City</th>\n",
       "      <th>Country</th>\n",
       "      <th>Date</th>\n",
       "      <th>Latitude</th>\n",
       "      <th>Longitude</th>\n",
       "      <th>Temperature</th>\n",
       "      <th>Humidity</th>\n",
       "      <th>Wind speed</th>\n",
       "      <th>Cloudliness</th>\n",
       "    </tr>\n",
       "  </thead>\n",
       "  <tbody>\n",
       "  </tbody>\n",
       "</table>\n",
       "</div>"
      ],
      "text/plain": [
       "Empty DataFrame\n",
       "Columns: [City, Country, Date, Latitude, Longitude, Temperature, Humidity, Wind speed, Cloudliness]\n",
       "Index: []"
      ]
     },
     "execution_count": 9,
     "metadata": {},
     "output_type": "execute_result"
    }
   ],
   "source": [
    "summary = [\"name\",\"sys.country\",\"dt\",\"coord.lat\", \"coord.lon\",\"main.temp_max\",\"main.humidity\",\"wind.speed\",\"clouds.all\"]\n",
    "\n",
    "data = [response(*summary) for response in weather_data]\n",
    "column_names = [\"City\",\"Country\",\"Date\",\"Latitude\", \"Longitude\",\"Temperature\",\"Humidity\",\"Wind speed\",\"Cloudliness\"]\n",
    "weather_data = pd.DataFrame(data, columns=column_names)\n",
    "weather_data.head()\n"
   ]
  },
  {
   "cell_type": "code",
   "execution_count": 10,
   "metadata": {},
   "outputs": [],
   "source": [
    "def plotprops(xlabelname,ylabelname,xlimits):\n",
    "    plt.xlabel(xlabelname)\n",
    "    plt.ylabel(ylabelname)\n",
    "    plt.xlim(xlimits)\n",
    "    plt.title(\"%s vs %s (%s/%s/%s)\"%(xlabelname,ylabelname,now.month,now.day,now.year),fontsize=14)\n",
    "    plt.grid(True)"
   ]
  },
  {
   "cell_type": "code",
   "execution_count": 12,
   "metadata": {},
   "outputs": [
    {
     "data": {
      "image/png": "[encoded data removed]",
      "text/plain": [
       "<matplotlib.figure.Figure at 0x2167c32f2e8>"
      ]
     },
     "metadata": {},
     "output_type": "display_data"
    }
   ],
   "source": [
    "plt.scatter(x=weather_data[\"Latitude\"],y=weather_data[\"Temperature\"],facecolors=\"blue\",edgecolors=\"black\")\n",
    "plotprops(\"Temperature\",\"Latitude(°F)\",[-90,90])\n",
    "plt.show()"
   ]
  },
  {
   "cell_type": "code",
   "execution_count": null,
   "metadata": {},
   "outputs": [],
   "source": []
  },
  {
   "cell_type": "code",
   "execution_count": null,
   "metadata": {},
   "outputs": [],
   "source": []
  },
  {
   "cell_type": "code",
   "execution_count": null,
   "metadata": {},
   "outputs": [],
   "source": []
  }
 ],
 "metadata": {
  "kernelspec": {
   "display_name": "Python [conda env:PythonData]",
   "language": "python",
   "name": "conda-env-PythonData-py"
  },
  "language_info": {
   "codemirror_mode": {
    "name": "ipython",
    "version": 3
   },
   "file_extension": ".py",
   "mimetype": "text/x-python",
   "name": "python",
   "nbconvert_exporter": "python",
   "pygments_lexer": "ipython3",
   "version": "3.6.4"
  }
 },
 "nbformat": 4,
 "nbformat_minor": 2
}
