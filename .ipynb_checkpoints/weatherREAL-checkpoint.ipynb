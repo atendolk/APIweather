{
 "cells": [
  {
   "cell_type": "code",
   "execution_count": 11,
   "metadata": {},
   "outputs": [],
   "source": [
    "\n",
    "import random\n",
    "import requests as req\n",
    "\n",
    "import pandas as pd\n",
    "import numpy as np\n",
    "\n",
    "import matplotlib.pyplot as plt\n",
    "\n",
    "from citipy import citipy\n",
    "\n",
    "import openweathermapy as owm\n",
    "\n",
    "\n",
    "import datetime\n",
    "now = datetime.datetime.now()"
   ]
  },
  {
   "cell_type": "code",
   "execution_count": 12,
   "metadata": {},
   "outputs": [],
   "source": [
    "\n",
    "# Create a settings object with your API key and preferred units# Creat \n",
    "api_key = \"bd5334bcd8f6438b0b15e4c22ea967e2\"\n",
    "\n",
    "settings = {\"units\": \"imperial\", \"appid\": api_key}"
   ]
  },
  {
   "cell_type": "code",
   "execution_count": 13,
   "metadata": {},
   "outputs": [
    {
     "name": "stderr",
     "output_type": "stream",
     "text": [
      "C:\\Users\\Anish Tendolkar\\Anaconda3\\envs\\PythonData\\lib\\site-packages\\ipykernel\\__main__.py:19: FutureWarning: set_value is deprecated and will be removed in a future release. Please use .at[] or .iat[] accessors instead\n",
      "C:\\Users\\Anish Tendolkar\\Anaconda3\\envs\\PythonData\\lib\\site-packages\\ipykernel\\__main__.py:20: FutureWarning: set_value is deprecated and will be removed in a future release. Please use .at[] or .iat[] accessors instead\n"
     ]
    },
    {
     "data": {
      "text/html": [
       "<div>\n",
       "<style scoped>\n",
       "    .dataframe tbody tr th:only-of-type {\n",
       "        vertical-align: middle;\n",
       "    }\n",
       "\n",
       "    .dataframe tbody tr th {\n",
       "        vertical-align: top;\n",
       "    }\n",
       "\n",
       "    .dataframe thead th {\n",
       "        text-align: right;\n",
       "    }\n",
       "</style>\n",
       "<table border=\"1\" class=\"dataframe\">\n",
       "  <thead>\n",
       "    <tr style=\"text-align: right;\">\n",
       "      <th></th>\n",
       "      <th>City</th>\n",
       "      <th>Country</th>\n",
       "    </tr>\n",
       "  </thead>\n",
       "  <tbody>\n",
       "    <tr>\n",
       "      <th>0</th>\n",
       "      <td>tual</td>\n",
       "      <td>id</td>\n",
       "    </tr>\n",
       "    <tr>\n",
       "      <th>1</th>\n",
       "      <td>hamilton</td>\n",
       "      <td>bm</td>\n",
       "    </tr>\n",
       "    <tr>\n",
       "      <th>2</th>\n",
       "      <td>ugoofaaru</td>\n",
       "      <td>mv</td>\n",
       "    </tr>\n",
       "    <tr>\n",
       "      <th>3</th>\n",
       "      <td>chuy</td>\n",
       "      <td>uy</td>\n",
       "    </tr>\n",
       "    <tr>\n",
       "      <th>4</th>\n",
       "      <td>puerto ayacucho</td>\n",
       "      <td>ve</td>\n",
       "    </tr>\n",
       "  </tbody>\n",
       "</table>\n",
       "</div>"
      ],
      "text/plain": [
       "              City Country\n",
       "0             tual      id\n",
       "1         hamilton      bm\n",
       "2        ugoofaaru      mv\n",
       "3             chuy      uy\n",
       "4  puerto ayacucho      ve"
      ]
     },
     "execution_count": 13,
     "metadata": {},
     "output_type": "execute_result"
    }
   ],
   "source": [
    "# Latitude ranges from -90 to 90 and Longitude ranges from -180 to 180\n",
    "lat = list(np.arange(-90,90.01,0.01))\n",
    "long = list(np.arange(-180,180.01,0.01))\n",
    "\n",
    "# Setting Latitude and Longitude to ramdomly pick co-ordinates.\n",
    "lat_samples=random.sample(lat,1500)\n",
    "long_samples=random.sample(long,1500)\n",
    "\n",
    "# Creating a dataframe from the randomly sample Latitude and Longitude\n",
    "cities_df=pd.DataFrame({\"Latitude\":lat_samples,\"Longitude\":long_samples})\n",
    "\n",
    "#Creating new columns City and Country for storing the details corresponding to the co-ordinates\n",
    "cities_df[\"City\"]=\"\"\n",
    "cities_df[\"Country\"]=\"\"\n",
    "\n",
    "# Finding the city and the country code corresponding to the Latitude and Longitude\n",
    "for index,row in cities_df.iterrows():\n",
    "    city=citipy.nearest_city(row[\"Latitude\"], row[\"Longitude\"])\n",
    "    cities_df.set_value(index, \"City\", city.city_name)\n",
    "    cities_df.set_value(index, \"Country\", city.country_code)\n",
    "\n",
    "# Dropping the Latitude and Longitude as they are values of the nearest city and not the exact co-ordinates of the city\n",
    "cities_df=cities_df.drop(cities_df.columns[[0, 1]], axis=1)\n",
    "\n",
    "# Deleting duplicate values from the list of cities and keeping only the first\n",
    "cities_df=cities_df.drop_duplicates(['City'], keep='first')\n",
    "\n",
    "# Randomly sampling a list of 500 cities \n",
    "cities_df=cities_df.sample(n=5)\n",
    "\n",
    "# Resetting the index of the cities list\n",
    "cities_df=cities_df.reset_index(drop=True)\n",
    "\n",
    "cities_df.head()"
   ]
  },
  {
   "cell_type": "code",
   "execution_count": 14,
   "metadata": {},
   "outputs": [
    {
     "name": "stdout",
     "output_type": "stream",
     "text": [
      "\n",
      "Stats Data Minning\n",
      "-----------------------------\n",
      "\n",
      "Processing record 1|tual,id\n",
      "\n",
      "https://api.openweathermap.org/data/2.5/weather?appid=bd5334bcd8f6438b0b15e4c22ea967e2&units=imperial&q=tual,id\n",
      "\n",
      "Processing record 2|hamilton,bm\n",
      "\n",
      "https://api.openweathermap.org/data/2.5/weather?appid=bd5334bcd8f6438b0b15e4c22ea967e2&units=imperial&q=hamilton,bm\n",
      "\n",
      "Processing record 3|ugoofaaru,mv\n",
      "\n",
      "https://api.openweathermap.org/data/2.5/weather?appid=bd5334bcd8f6438b0b15e4c22ea967e2&units=imperial&q=ugoofaaru,mv\n",
      "\n",
      "Processing record 4|chuy,uy\n",
      "\n",
      "https://api.openweathermap.org/data/2.5/weather?appid=bd5334bcd8f6438b0b15e4c22ea967e2&units=imperial&q=chuy,uy\n",
      "\n",
      "Processing record 5|puerto ayacucho,ve\n",
      "\n",
      "https://api.openweathermap.org/data/2.5/weather?appid=bd5334bcd8f6438b0b15e4c22ea967e2&units=imperial&q=puerto+ayacucho,ve\n"
     ]
    }
   ],
   "source": [
    "\n",
    "# Get data for each city in cities_df# Get d \n",
    "weather_data = []\n",
    "\n",
    "url=\"https://api.openweathermap.org/data/2.5/weather?appid=\" + api_key + \"&units=imperial&q=\"\n",
    "\n",
    "print(\"\\nStats Data Minning\\n-----------------------------\")\n",
    "#Get the response from OpenWeatherMapY and storing the response into weather_data if response is found\n",
    "for index,row in cities_df.iterrows():  \n",
    "    print(\"\\nProcessing record %s|%s,%s\"%((index+1),row[\"City\"],row[\"Country\"]))\n",
    "    print(\"\\n\"+url+\"%s,%s\"%(row[\"City\"].replace(\" \",\"+\"),row[\"Country\"]))\n",
    "    try:\n",
    "        response = owm.get_current(\"%s,%s\"%(row[\"City\"],row[\"Country\"]), **settings)\n",
    "        # Appending the response to the weather_Data\n",
    "        weather_data.append(response)\n",
    "    except:\n",
    "        print(\" Skipping...\")\n"
   ]
  },
  {
   "cell_type": "code",
   "execution_count": 15,
   "metadata": {},
   "outputs": [
    {
     "data": {
      "text/html": [
       "<div>\n",
       "<style scoped>\n",
       "    .dataframe tbody tr th:only-of-type {\n",
       "        vertical-align: middle;\n",
       "    }\n",
       "\n",
       "    .dataframe tbody tr th {\n",
       "        vertical-align: top;\n",
       "    }\n",
       "\n",
       "    .dataframe thead th {\n",
       "        text-align: right;\n",
       "    }\n",
       "</style>\n",
       "<table border=\"1\" class=\"dataframe\">\n",
       "  <thead>\n",
       "    <tr style=\"text-align: right;\">\n",
       "      <th></th>\n",
       "      <th>City</th>\n",
       "      <th>Country</th>\n",
       "      <th>Date</th>\n",
       "      <th>Latitude</th>\n",
       "      <th>Longitude</th>\n",
       "      <th>Temperature</th>\n",
       "      <th>Humidity</th>\n",
       "      <th>Wind speed</th>\n",
       "      <th>Cloudliness</th>\n",
       "    </tr>\n",
       "  </thead>\n",
       "  <tbody>\n",
       "    <tr>\n",
       "      <th>0</th>\n",
       "      <td>Tual</td>\n",
       "      <td>ID</td>\n",
       "      <td>1527780446</td>\n",
       "      <td>-5.67</td>\n",
       "      <td>132.75</td>\n",
       "      <td>83.32</td>\n",
       "      <td>97</td>\n",
       "      <td>16.46</td>\n",
       "      <td>80</td>\n",
       "    </tr>\n",
       "    <tr>\n",
       "      <th>1</th>\n",
       "      <td>Hamilton</td>\n",
       "      <td>BM</td>\n",
       "      <td>1527778500</td>\n",
       "      <td>32.30</td>\n",
       "      <td>-64.78</td>\n",
       "      <td>77.00</td>\n",
       "      <td>78</td>\n",
       "      <td>9.17</td>\n",
       "      <td>75</td>\n",
       "    </tr>\n",
       "    <tr>\n",
       "      <th>2</th>\n",
       "      <td>Ugoofaaru</td>\n",
       "      <td>MV</td>\n",
       "      <td>1527780446</td>\n",
       "      <td>5.67</td>\n",
       "      <td>73.00</td>\n",
       "      <td>83.95</td>\n",
       "      <td>99</td>\n",
       "      <td>19.04</td>\n",
       "      <td>0</td>\n",
       "    </tr>\n",
       "    <tr>\n",
       "      <th>3</th>\n",
       "      <td>Chuy</td>\n",
       "      <td>UY</td>\n",
       "      <td>1527780447</td>\n",
       "      <td>-33.69</td>\n",
       "      <td>-53.46</td>\n",
       "      <td>59.74</td>\n",
       "      <td>99</td>\n",
       "      <td>19.82</td>\n",
       "      <td>92</td>\n",
       "    </tr>\n",
       "    <tr>\n",
       "      <th>4</th>\n",
       "      <td>Puerto Ayacucho</td>\n",
       "      <td>VE</td>\n",
       "      <td>1527775200</td>\n",
       "      <td>5.66</td>\n",
       "      <td>-67.62</td>\n",
       "      <td>82.40</td>\n",
       "      <td>83</td>\n",
       "      <td>3.15</td>\n",
       "      <td>40</td>\n",
       "    </tr>\n",
       "  </tbody>\n",
       "</table>\n",
       "</div>"
      ],
      "text/plain": [
       "              City Country        Date  Latitude  Longitude  Temperature  \\\n",
       "0             Tual      ID  1527780446     -5.67     132.75        83.32   \n",
       "1         Hamilton      BM  1527778500     32.30     -64.78        77.00   \n",
       "2        Ugoofaaru      MV  1527780446      5.67      73.00        83.95   \n",
       "3             Chuy      UY  1527780447    -33.69     -53.46        59.74   \n",
       "4  Puerto Ayacucho      VE  1527775200      5.66     -67.62        82.40   \n",
       "\n",
       "   Humidity  Wind speed  Cloudliness  \n",
       "0        97       16.46           80  \n",
       "1        78        9.17           75  \n",
       "2        99       19.04            0  \n",
       "3        99       19.82           92  \n",
       "4        83        3.15           40  "
      ]
     },
     "execution_count": 15,
     "metadata": {},
     "output_type": "execute_result"
    }
   ],
   "source": [
    "\n",
    "summary = [\"name\",\"sys.country\",\"dt\",\"coord.lat\", \"coord.lon\",\"main.temp_max\",\"main.humidity\",\"wind.speed\",\"clouds.all\"]\n",
    "\n",
    "\n",
    "data = [response(*summary) for response in weather_data]\n",
    "column_names = [\"City\",\"Country\",\"Date\",\"Latitude\", \"Longitude\",\"Temperature\",\"Humidity\",\"Wind speed\",\"Cloudliness\"]\n",
    "weather_data = pd.DataFrame(data, columns=column_names)\n",
    "\n",
    "weather_data.head()"
   ]
  },
  {
   "cell_type": "code",
   "execution_count": 16,
   "metadata": {},
   "outputs": [],
   "source": [
    "\n",
    "def plotprops(xlabelname,ylabelname,xlimits):\n",
    "    plt.xlabel(xlabelname)\n",
    "    plt.ylabel(ylabelname)\n",
    "    plt.xlim(xlimits)\n",
    "    plt.title(\"%s vs %s (%s/%s/%s)\"%(xlabelname,ylabelname,now.month,now.day,now.year),fontsize=14)\n",
    "    plt.grid(True)"
   ]
  },
  {
   "cell_type": "code",
   "execution_count": 17,
   "metadata": {},
   "outputs": [
    {
     "data": {
      "image/png": "[encoded data removed]",
      "text/plain": [
       "<matplotlib.figure.Figure at 0x25273d61e80>"
      ]
     },
     "metadata": {},
     "output_type": "display_data"
    }
   ],
   "source": [
    "\n",
    "plt.scatter(x=weather_data[\"Latitude\"],y=weather_data[\"Temperature\"],facecolors=\"blue\",edgecolors=\"black\")\n",
    "plotprops(\"Temperature\",\"Latitude(°F)\",[-90,90])\n",
    "\n",
    "plt.show()"
   ]
  },
  {
   "cell_type": "code",
   "execution_count": 18,
   "metadata": {
    "scrolled": true
   },
   "outputs": [
    {
     "data": {
      "image/png": "[encoded data removed]",
      "text/plain": [
       "<matplotlib.figure.Figure at 0x252728eac18>"
      ]
     },
     "metadata": {},
     "output_type": "display_data"
    }
   ],
   "source": [
    "# Humidity vs Latitude\n",
    "\n",
    "plt.scatter(x=weather_data[\"Latitude\"],y=weather_data[\"Humidity\"],facecolors=\"blue\",edgecolors=\"black\")\n",
    "plotprops(\"Humidity\",\"Latitude(%)\",[-90,90])\n",
    "\n",
    "plt.show()"
   ]
  },
  {
   "cell_type": "code",
   "execution_count": 19,
   "metadata": {
    "scrolled": true
   },
   "outputs": [
    {
     "data": {
      "image/png": "[encoded data removed]",
      "text/plain": [
       "<matplotlib.figure.Figure at 0x25273d5a908>"
      ]
     },
     "metadata": {},
     "output_type": "display_data"
    }
   ],
   "source": [
    "# Cloudiness vs Latitude\n",
    "\n",
    "plt.scatter(x=weather_data[\"Latitude\"],y=weather_data[\"Cloudliness\"],facecolors=\"blue\",edgecolors=\"black\")\n",
    "plotprops(\"Cloudiness\",\"Latitude(%)\",[-90,90])\n",
    "\n",
    "plt.show()"
   ]
  },
  {
   "cell_type": "code",
   "execution_count": 20,
   "metadata": {},
   "outputs": [
    {
     "data": {
      "image/png": "[encoded data removed]",
      "text/plain": [
       "<matplotlib.figure.Figure at 0x252728dd748>"
      ]
     },
     "metadata": {},
     "output_type": "display_data"
    }
   ],
   "source": [
    "\n",
    "# Wind Speed vs Latitude  \n",
    "\n",
    "plt.scatter(x=weather_data[\"Latitude\"],y=weather_data[\"Wind speed\"],facecolors=\"blue\",edgecolors=\"black\")\n",
    "plotprops(\"Latitude\",\"Wind speed(mph)\",[-90,90])\n",
    "\n",
    "plt.show()"
   ]
  },
  {
   "cell_type": "code",
   "execution_count": null,
   "metadata": {},
   "outputs": [],
   "source": []
  },
  {
   "cell_type": "code",
   "execution_count": null,
   "metadata": {},
   "outputs": [],
   "source": []
  }
 ],
 "metadata": {
  "kernelspec": {
   "display_name": "Python [conda env:PythonData]",
   "language": "python",
   "name": "conda-env-PythonData-py"
  },
  "language_info": {
   "codemirror_mode": {
    "name": "ipython",
    "version": 3
   },
   "file_extension": ".py",
   "mimetype": "text/x-python",
   "name": "python",
   "nbconvert_exporter": "python",
   "pygments_lexer": "ipython3",
   "version": "3.6.4"
  }
 },
 "nbformat": 4,
 "nbformat_minor": 2
}
