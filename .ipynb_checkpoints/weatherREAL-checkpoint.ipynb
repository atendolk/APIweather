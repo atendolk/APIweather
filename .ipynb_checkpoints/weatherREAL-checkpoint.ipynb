{
 "cells": [
  {
   "cell_type": "code",
   "execution_count": 1,
   "metadata": {},
   "outputs": [],
   "source": [
    "# Dependencies\n",
    "import random\n",
    "import requests as req\n",
    "\n",
    "import pandas as pd\n",
    "import numpy as np\n",
    "\n",
    "import matplotlib.pyplot as plt\n",
    "\n",
    "from citipy import citipy\n",
    "\n",
    "import openweathermapy as owm\n",
    "\n",
    "#To get the current date\n",
    "import datetime\n",
    "now = datetime.datetime.now()"
   ]
  },
  {
   "cell_type": "code",
   "execution_count": 2,
   "metadata": {},
   "outputs": [],
   "source": [
    "\n",
    "# Create a settings object with your API key and preferred units# Creat \n",
    "api_key = \"bd5334bcd8f6438b0b15e4c22ea967e2\"\n",
    "# Setting the units to imperial to get Fahrenheit reading\n",
    "settings = {\"units\": \"imperial\", \"appid\": api_key}"
   ]
  },
  {
   "cell_type": "code",
   "execution_count": 3,
   "metadata": {},
   "outputs": [
    {
     "name": "stderr",
     "output_type": "stream",
     "text": [
      "C:\\Users\\Anish Tendolkar\\Anaconda3\\envs\\PythonData\\lib\\site-packages\\ipykernel\\__main__.py:19: FutureWarning: set_value is deprecated and will be removed in a future release. Please use .at[] or .iat[] accessors instead\n",
      "C:\\Users\\Anish Tendolkar\\Anaconda3\\envs\\PythonData\\lib\\site-packages\\ipykernel\\__main__.py:20: FutureWarning: set_value is deprecated and will be removed in a future release. Please use .at[] or .iat[] accessors instead\n"
     ]
    },
    {
     "data": {
      "text/html": [
       "<div>\n",
       "<style scoped>\n",
       "    .dataframe tbody tr th:only-of-type {\n",
       "        vertical-align: middle;\n",
       "    }\n",
       "\n",
       "    .dataframe tbody tr th {\n",
       "        vertical-align: top;\n",
       "    }\n",
       "\n",
       "    .dataframe thead th {\n",
       "        text-align: right;\n",
       "    }\n",
       "</style>\n",
       "<table border=\"1\" class=\"dataframe\">\n",
       "  <thead>\n",
       "    <tr style=\"text-align: right;\">\n",
       "      <th></th>\n",
       "      <th>City</th>\n",
       "      <th>Country</th>\n",
       "    </tr>\n",
       "  </thead>\n",
       "  <tbody>\n",
       "    <tr>\n",
       "      <th>0</th>\n",
       "      <td>himora</td>\n",
       "      <td>et</td>\n",
       "    </tr>\n",
       "    <tr>\n",
       "      <th>1</th>\n",
       "      <td>petatlan</td>\n",
       "      <td>mx</td>\n",
       "    </tr>\n",
       "    <tr>\n",
       "      <th>2</th>\n",
       "      <td>kupiskis</td>\n",
       "      <td>lt</td>\n",
       "    </tr>\n",
       "    <tr>\n",
       "      <th>3</th>\n",
       "      <td>kruisfontein</td>\n",
       "      <td>za</td>\n",
       "    </tr>\n",
       "    <tr>\n",
       "      <th>4</th>\n",
       "      <td>lata</td>\n",
       "      <td>sb</td>\n",
       "    </tr>\n",
       "  </tbody>\n",
       "</table>\n",
       "</div>"
      ],
      "text/plain": [
       "           City Country\n",
       "0        himora      et\n",
       "1      petatlan      mx\n",
       "2      kupiskis      lt\n",
       "3  kruisfontein      za\n",
       "4          lata      sb"
      ]
     },
     "execution_count": 3,
     "metadata": {},
     "output_type": "execute_result"
    }
   ],
   "source": [
    "# Latitude ranges from -90 to 90 and Longitude ranges from -180 to 180\n",
    "lat = list(np.arange(-90,90.01,0.01))\n",
    "long = list(np.arange(-180,180.01,0.01))\n",
    "\n",
    "# Setting Latitude and Longitude to ramdomly pick co-ordinates.\n",
    "lat_samples=random.sample(lat,1500)\n",
    "long_samples=random.sample(long,1500)\n",
    "\n",
    "# Creating a dataframe from the randomly sample Latitude and Longitude\n",
    "cities_df=pd.DataFrame({\"Latitude\":lat_samples,\"Longitude\":long_samples})\n",
    "\n",
    "#Creating new columns City and Country for storing the details corresponding to the co-ordinates\n",
    "cities_df[\"City\"]=\"\"\n",
    "cities_df[\"Country\"]=\"\"\n",
    "\n",
    "# Finding the city and the country code corresponding to the Latitude and Longitude\n",
    "for index,row in cities_df.iterrows():\n",
    "    city=citipy.nearest_city(row[\"Latitude\"], row[\"Longitude\"])\n",
    "    cities_df.set_value(index, \"City\", city.city_name)\n",
    "    cities_df.set_value(index, \"Country\", city.country_code)\n",
    "\n",
    "# Dropping the Latitude and Longitude as they are values of the nearest city and not the exact co-ordinates of the city\n",
    "cities_df=cities_df.drop(cities_df.columns[[0, 1]], axis=1)\n",
    "\n",
    "# Deleting duplicate values from the list of cities and keeping only the first\n",
    "cities_df=cities_df.drop_duplicates(['City'], keep='first')\n",
    "\n",
    "# Randomly sampling a list of 500 cities \n",
    "cities_df=cities_df.sample(n=5)\n",
    "\n",
    "# Resetting the index of the cities list\n",
    "cities_df=cities_df.reset_index(drop=True)\n",
    "\n",
    "cities_df.head()"
   ]
  },
  {
   "cell_type": "code",
   "execution_count": 4,
   "metadata": {},
   "outputs": [
    {
     "name": "stdout",
     "output_type": "stream",
     "text": [
      "\n",
      "Stats Data Minning\n",
      "-----------------------------\n",
      "\n",
      "Processing record 1|himora,et\n",
      "\n",
      "https://api.openweathermap.org/data/2.5/weather?appid=bd5334bcd8f6438b0b15e4c22ea967e2&units=imperial&q=himora,et\n",
      " Skipping...\n",
      "\n",
      "Processing record 2|petatlan,mx\n",
      "\n",
      "https://api.openweathermap.org/data/2.5/weather?appid=bd5334bcd8f6438b0b15e4c22ea967e2&units=imperial&q=petatlan,mx\n",
      "\n",
      "Processing record 3|kupiskis,lt\n",
      "\n",
      "https://api.openweathermap.org/data/2.5/weather?appid=bd5334bcd8f6438b0b15e4c22ea967e2&units=imperial&q=kupiskis,lt\n",
      "\n",
      "Processing record 4|kruisfontein,za\n",
      "\n",
      "https://api.openweathermap.org/data/2.5/weather?appid=bd5334bcd8f6438b0b15e4c22ea967e2&units=imperial&q=kruisfontein,za\n",
      "\n",
      "Processing record 5|lata,sb\n",
      "\n",
      "https://api.openweathermap.org/data/2.5/weather?appid=bd5334bcd8f6438b0b15e4c22ea967e2&units=imperial&q=lata,sb\n",
      " Skipping...\n"
     ]
    }
   ],
   "source": [
    "\n",
    "# Get data for each city in cities_df# Get d \n",
    "weather_data = []\n",
    "\n",
    "url=\"https://api.openweathermap.org/data/2.5/weather?appid=\" + api_key + \"&units=imperial&q=\"\n",
    "\n",
    "print(\"\\nStats Data Minning\\n-----------------------------\")\n",
    "#Get the response from OpenWeatherMapY and storing the response into weather_data if response is found\n",
    "for index,row in cities_df.iterrows():  \n",
    "    print(\"\\nProcessing record %s|%s,%s\"%((index+1),row[\"City\"],row[\"Country\"]))\n",
    "    print(\"\\n\"+url+\"%s,%s\"%(row[\"City\"].replace(\" \",\"+\"),row[\"Country\"]))\n",
    "    try:\n",
    "        response = owm.get_current(\"%s,%s\"%(row[\"City\"],row[\"Country\"]), **settings)\n",
    "        # Appending the response to the weather_Data\n",
    "        weather_data.append(response)\n",
    "    except:\n",
    "        print(\" Skipping...\")\n"
   ]
  },
  {
   "cell_type": "code",
   "execution_count": 5,
   "metadata": {},
   "outputs": [
    {
     "data": {
      "text/html": [
       "<div>\n",
       "<style scoped>\n",
       "    .dataframe tbody tr th:only-of-type {\n",
       "        vertical-align: middle;\n",
       "    }\n",
       "\n",
       "    .dataframe tbody tr th {\n",
       "        vertical-align: top;\n",
       "    }\n",
       "\n",
       "    .dataframe thead th {\n",
       "        text-align: right;\n",
       "    }\n",
       "</style>\n",
       "<table border=\"1\" class=\"dataframe\">\n",
       "  <thead>\n",
       "    <tr style=\"text-align: right;\">\n",
       "      <th></th>\n",
       "      <th>City</th>\n",
       "      <th>Country</th>\n",
       "      <th>Date</th>\n",
       "      <th>Latitude</th>\n",
       "      <th>Longitude</th>\n",
       "      <th>Temperature</th>\n",
       "      <th>Humidity</th>\n",
       "      <th>Wind speed</th>\n",
       "      <th>Cloudliness</th>\n",
       "    </tr>\n",
       "  </thead>\n",
       "  <tbody>\n",
       "    <tr>\n",
       "      <th>0</th>\n",
       "      <td>Petatlan</td>\n",
       "      <td>MX</td>\n",
       "      <td>1527285540</td>\n",
       "      <td>17.52</td>\n",
       "      <td>-101.27</td>\n",
       "      <td>91.40</td>\n",
       "      <td>63</td>\n",
       "      <td>11.41</td>\n",
       "      <td>5</td>\n",
       "    </tr>\n",
       "    <tr>\n",
       "      <th>1</th>\n",
       "      <td>Kupiskis</td>\n",
       "      <td>LT</td>\n",
       "      <td>1527286899</td>\n",
       "      <td>55.83</td>\n",
       "      <td>24.97</td>\n",
       "      <td>64.24</td>\n",
       "      <td>67</td>\n",
       "      <td>10.22</td>\n",
       "      <td>0</td>\n",
       "    </tr>\n",
       "    <tr>\n",
       "      <th>2</th>\n",
       "      <td>Kruisfontein</td>\n",
       "      <td>ZA</td>\n",
       "      <td>1527286900</td>\n",
       "      <td>-34.00</td>\n",
       "      <td>24.73</td>\n",
       "      <td>58.48</td>\n",
       "      <td>100</td>\n",
       "      <td>7.76</td>\n",
       "      <td>92</td>\n",
       "    </tr>\n",
       "  </tbody>\n",
       "</table>\n",
       "</div>"
      ],
      "text/plain": [
       "           City Country        Date  Latitude  Longitude  Temperature  \\\n",
       "0      Petatlan      MX  1527285540     17.52    -101.27        91.40   \n",
       "1      Kupiskis      LT  1527286899     55.83      24.97        64.24   \n",
       "2  Kruisfontein      ZA  1527286900    -34.00      24.73        58.48   \n",
       "\n",
       "   Humidity  Wind speed  Cloudliness  \n",
       "0        63       11.41            5  \n",
       "1        67       10.22            0  \n",
       "2       100        7.76           92  "
      ]
     },
     "execution_count": 5,
     "metadata": {},
     "output_type": "execute_result"
    }
   ],
   "source": [
    "\n",
    "# Create an \"extracts\" object to get the various parameter required to form the weather data table# Creat \n",
    "summary = [\"name\",\"sys.country\",\"dt\",\"coord.lat\", \"coord.lon\",\"main.temp_max\",\"main.humidity\",\"wind.speed\",\"clouds.all\"]\n",
    "\n",
    "# Create a Pandas DataFrame with the results\n",
    "data = [response(*summary) for response in weather_data]\n",
    "column_names = [\"City\",\"Country\",\"Date\",\"Latitude\", \"Longitude\",\"Temperature\",\"Humidity\",\"Wind speed\",\"Cloudliness\"]\n",
    "weather_data = pd.DataFrame(data, columns=column_names)\n",
    "\n",
    "weather_data.head()"
   ]
  },
  {
   "cell_type": "code",
   "execution_count": 6,
   "metadata": {},
   "outputs": [],
   "source": [
    "\n",
    "# Creating a function to set the properties of the graph# Creat \n",
    "def plotprops(xlabelname,ylabelname,xlimits):\n",
    "    plt.xlabel(xlabelname)\n",
    "    plt.ylabel(ylabelname)\n",
    "    plt.xlim(xlimits)\n",
    "    plt.title(\"%s vs %s (%s/%s/%s)\"%(xlabelname,ylabelname,now.month,now.day,now.year),fontsize=14)\n",
    "    plt.grid(True)"
   ]
  },
  {
   "cell_type": "code",
   "execution_count": 7,
   "metadata": {},
   "outputs": [
    {
     "data": {
      "image/png": "[encoded data removed]",
      "text/plain": [
       "<matplotlib.figure.Figure at 0x252727d0e10>"
      ]
     },
     "metadata": {},
     "output_type": "display_data"
    }
   ],
   "source": [
    "\n",
    "# Temperature vs Latitude(F)\n",
    "plt.scatter(x=weather_data[\"Latitude\"],y=weather_data[\"Temperature\"],facecolors=\"blue\",edgecolors=\"black\")\n",
    "plotprops(\"Temperature\",\"Latitude(°F)\",[-90,90])\n",
    "\n",
    "plt.show()"
   ]
  },
  {
   "cell_type": "code",
   "execution_count": 8,
   "metadata": {
    "scrolled": true
   },
   "outputs": [
    {
     "data": {
      "image/png": "[encoded data removed]",
      "text/plain": [
       "<matplotlib.figure.Figure at 0x252727c1860>"
      ]
     },
     "metadata": {},
     "output_type": "display_data"
    }
   ],
   "source": [
    "# Humidity vs Latitude\n",
    "\n",
    "plt.scatter(x=weather_data[\"Latitude\"],y=weather_data[\"Humidity\"],facecolors=\"blue\",edgecolors=\"black\")\n",
    "plotprops(\"Humidity\",\"Latitude(%)\",[-90,90])\n",
    "\n",
    "plt.show()"
   ]
  },
  {
   "cell_type": "code",
   "execution_count": 9,
   "metadata": {},
   "outputs": [
    {
     "data": {
      "image/png": "[encoded data removed]",
      "text/plain": [
       "<matplotlib.figure.Figure at 0x25273d03eb8>"
      ]
     },
     "metadata": {},
     "output_type": "display_data"
    }
   ],
   "source": [
    "# Cloudiness vs Latitude\n",
    "\n",
    "plt.scatter(x=weather_data[\"Latitude\"],y=weather_data[\"Cloudliness\"],facecolors=\"blue\",edgecolors=\"black\")\n",
    "plotprops(\"Cloudiness\",\"Latitude(%)\",[-90,90])\n",
    "\n",
    "plt.show()"
   ]
  },
  {
   "cell_type": "code",
   "execution_count": 10,
   "metadata": {},
   "outputs": [
    {
     "data": {
      "image/png": "[encoded data removed]",
      "text/plain": [
       "<matplotlib.figure.Figure at 0x25273d24860>"
      ]
     },
     "metadata": {},
     "output_type": "display_data"
    }
   ],
   "source": [
    "\n",
    "# Wind Speed vs Latitude  \n",
    "\n",
    "plt.scatter(x=weather_data[\"Latitude\"],y=weather_data[\"Wind speed\"],facecolors=\"blue\",edgecolors=\"black\")\n",
    "plotprops(\"Latitude\",\"Wind speed(mph)\",[-90,90])\n",
    "\n",
    "plt.show()"
   ]
  },
  {
   "cell_type": "code",
   "execution_count": null,
   "metadata": {},
   "outputs": [],
   "source": []
  }
 ],
 "metadata": {
  "kernelspec": {
   "display_name": "Python [conda env:PythonData]",
   "language": "python",
   "name": "conda-env-PythonData-py"
  },
  "language_info": {
   "codemirror_mode": {
    "name": "ipython",
    "version": 3
   },
   "file_extension": ".py",
   "mimetype": "text/x-python",
   "name": "python",
   "nbconvert_exporter": "python",
   "pygments_lexer": "ipython3",
   "version": "3.6.4"
  }
 },
 "nbformat": 4,
 "nbformat_minor": 2
}
